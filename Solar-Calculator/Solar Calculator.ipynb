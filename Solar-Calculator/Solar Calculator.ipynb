{
 "cells": [
  {
   "metadata": {
    "ExecuteTime": {
     "end_time": "2025-07-20T05:26:57.602264Z",
     "start_time": "2025-07-20T05:26:57.587690Z"
    }
   },
   "cell_type": "code",
   "source": [
    "# --- Cell 1 : interactive inputs ---------------------------------\n",
    "import ipywidgets as widgets\n",
    "from ipywidgets import interact\n",
    "from datetime import date as _date\n",
    "\n",
    "lat_widget  = widgets.FloatText(value=-27.47711,\n",
    "                                description='Latitude (°)',\n",
    "                                step=0.0001)\n",
    "lon_widget  = widgets.FloatText(value=153.029342,\n",
    "                                description='Longitude (°)',\n",
    "                                step=0.0001)\n",
    "date_widget = widgets.DatePicker(description='Date',\n",
    "                                 value=_date(2025, 8, 4))\n",
    "\n",
    "print(\"Enter your observing location and date, then run the next cell.\")\n",
    "display(lat_widget, lon_widget, date_widget)"
   ],
   "id": "26becfaa4e9c11d8",
   "outputs": [
    {
     "name": "stdout",
     "output_type": "stream",
     "text": [
      "Enter your observing location and date, then run the next cell.\n"
     ]
    },
    {
     "data": {
      "text/plain": [
       "FloatText(value=-27.47711, description='Latitude (°)', step=0.0001)"
      ],
      "application/vnd.jupyter.widget-view+json": {
       "version_major": 2,
       "version_minor": 0,
       "model_id": "0aa39d295dc14ed398f9ae9a35055e21"
      }
     },
     "metadata": {},
     "output_type": "display_data"
    },
    {
     "data": {
      "text/plain": [
       "FloatText(value=153.029342, description='Longitude (°)', step=0.0001)"
      ],
      "application/vnd.jupyter.widget-view+json": {
       "version_major": 2,
       "version_minor": 0,
       "model_id": "929345d7388042d6bcf4264a6c055838"
      }
     },
     "metadata": {},
     "output_type": "display_data"
    },
    {
     "data": {
      "text/plain": [
       "DatePicker(value=datetime.date(2025, 8, 4), description='Date')"
      ],
      "application/vnd.jupyter.widget-view+json": {
       "version_major": 2,
       "version_minor": 0,
       "model_id": "ecafbe5f41f1416dabb656c34fcebd19"
      }
     },
     "metadata": {},
     "output_type": "display_data"
    }
   ],
   "execution_count": 9
  },
  {
   "metadata": {
    "ExecuteTime": {
     "end_time": "2025-07-20T05:26:51.489061Z",
     "start_time": "2025-07-20T05:26:51.397999Z"
    }
   },
   "cell_type": "code",
   "source": [
    "# --- Cell 2 : calculation & LaTeX table --------------------------\n",
    "import pandas as pd\n",
    "from datetime import datetime, time, timedelta\n",
    "import pytz\n",
    "from astropy.coordinates import EarthLocation, get_sun, AltAz\n",
    "from astropy.time import Time\n",
    "import astropy.units as u\n",
    "\n",
    "# Read values from widgets\n",
    "latitude  = lat_widget.value\n",
    "longitude = lon_widget.value\n",
    "calculation_date = date_widget.value\n",
    "\n",
    "TIMEZONE = pytz.timezone('Australia/Brisbane')  # adjust if desired\n",
    "\n",
    "def calculate_solar_elevation(lat, lon, date_of_interest):\n",
    "    location = EarthLocation(lat=lat*u.deg, lon=lon*u.deg, height=0*u.m)\n",
    "    results = []\n",
    "    start_time = time(9, 0)\n",
    "    end_time   = time(15, 0)\n",
    "    current    = datetime.combine(date_of_interest, start_time)\n",
    "    interval   = timedelta(minutes=30)\n",
    "\n",
    "    while current.time() <= end_time:\n",
    "        dt_aware = TIMEZONE.localize(current)\n",
    "        t = Time(dt_aware)\n",
    "        sun_altaz = get_sun(t).transform_to(AltAz(obstime=t,\n",
    "                                                 location=location))\n",
    "        results.append({\n",
    "            \"Time (AEST)\": current.strftime('%H:%M'),\n",
    "            \"Elevation (°)\": f\"{sun_altaz.alt.degree:.1f}\"\n",
    "        })\n",
    "        current += interval\n",
    "\n",
    "    return pd.DataFrame(results)\n",
    "\n",
    "elevation_table = calculate_solar_elevation(latitude, longitude,\n",
    "                                            calculation_date)\n",
    "\n",
    "print(f\"Solar Elevation for ({latitude:.4f}, {longitude:.4f})\")\n",
    "print(f\"Date: {calculation_date.strftime('%d %B %Y')}\")\n",
    "print(\"-\" * 50)\n",
    "print(elevation_table.to_string(index=False))\n",
    "\n",
    "# I recommend confirming this against https://gml.noaa.gov/grad/solcalc/"
   ],
   "id": "950678a31acdeef5",
   "outputs": [
    {
     "name": "stdout",
     "output_type": "stream",
     "text": [
      "Solar Elevation for (-27.4771, 153.0293)\n",
      "Date: 05 August 2025\n",
      "--------------------------------------------------\n",
      "Time (AEST) Elevation (°)\n",
      "      09:00          28.8\n",
      "      09:30          33.5\n",
      "      10:00          37.7\n",
      "      10:30          41.1\n",
      "      11:00          43.7\n",
      "      11:30          45.2\n",
      "      12:00          45.6\n",
      "      12:30          44.7\n",
      "      13:00          42.8\n",
      "      13:30          39.9\n",
      "      14:00          36.1\n",
      "      14:30          31.7\n",
      "      15:00          26.7\n"
     ]
    }
   ],
   "execution_count": 8
  }
 ],
 "metadata": {
  "kernelspec": {
   "display_name": "Python 3",
   "language": "python",
   "name": "python3"
  },
  "language_info": {
   "codemirror_mode": {
    "name": "ipython",
    "version": 2
   },
   "file_extension": ".py",
   "mimetype": "text/x-python",
   "name": "python",
   "nbconvert_exporter": "python",
   "pygments_lexer": "ipython2",
   "version": "2.7.6"
  }
 },
 "nbformat": 4,
 "nbformat_minor": 5
}
