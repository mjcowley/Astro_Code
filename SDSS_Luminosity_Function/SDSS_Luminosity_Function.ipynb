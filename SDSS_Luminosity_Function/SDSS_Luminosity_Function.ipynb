{
 "cells": [
  {
   "cell_type": "code",
   "id": "initial_id",
   "metadata": {
    "collapsed": true,
    "ExecuteTime": {
     "end_time": "2024-12-05T05:52:54.830551Z",
     "start_time": "2024-12-05T05:52:54.216452Z"
    }
   },
   "source": [
    "import numpy as np\n",
    "import matplotlib.pyplot as plt\n",
    "import pandas as pd"
   ],
   "outputs": [],
   "execution_count": 1
  },
  {
   "cell_type": "code",
   "source": [
    "# Start with a SQL query to the SDSS database to get the data\n",
    "\n",
    "from astroquery.sdss import SDSS\n",
    "zmin=0.015\n",
    "zmax=0.05\n",
    "sql=' SELECT \\\n",
    "      objid,ra,dec,petroMag_g,petroMag_r, \\\n",
    "      extinction_g,extinction_r,z,class \\\n",
    "      FROM SpecPhotoAll \\\n",
    "    WHERE \\\n",
    "      z > {:f} AND z < {:f} AND class = \"GALAXY\" \\\n",
    "      AND (ra between 140 and 240) and (dec between 0 and 50)'.format(zmin,zmax)\n",
    "dr18=SDSS.query_sql(sql, data_release=18)\n",
    "\n",
    "print(dr18) # Inspect the data"
   ],
   "metadata": {
    "collapsed": false,
    "ExecuteTime": {
     "end_time": "2024-12-05T05:52:56.112757Z",
     "start_time": "2024-12-05T05:52:55.482933Z"
    }
   },
   "id": "f23f001a99f150a5",
   "outputs": [
    {
     "name": "stdout",
     "output_type": "stream",
     "text": [
      "       objid            ra        dec     ... extinction_r     z      class \n",
      "------------------- --------- ----------- ... ------------ ---------- ------\n",
      "1237650796220514489 147.32951 0.028902695 ...    0.1715793 0.04809635 GALAXY\n",
      "1237650796220514489 147.32951 0.028902695 ...    0.1715793 0.04808582 GALAXY\n",
      "1237650796220055738 146.30086 0.035479627 ...     0.375023 0.02174484 GALAXY\n",
      "1237650796220055738 146.30086 0.035479627 ...     0.375023   0.021758 GALAXY\n",
      "1237650796220055691 146.23184 0.068229156 ...    0.3641846 0.02158549 GALAXY\n",
      "1237650796220055727 146.28301 0.064056069 ...    0.3681048  0.0215799 GALAXY\n",
      "1237650796220055727 146.28301 0.064056069 ...    0.3681048 0.02157441 GALAXY\n",
      "1237650796220055691 146.23184 0.068229156 ...    0.3641846 0.02160817 GALAXY\n",
      "1237648722289230091 145.22993  0.76255666 ...     0.233958 0.04707855 GALAXY\n",
      "1237648722289230091 145.22993  0.76255666 ...     0.233958 0.04712786 GALAXY\n",
      "                ...       ...         ... ...          ...        ...    ...\n",
      "                 -- 161.79428   24.049768 ...           -- 0.03997457 GALAXY\n",
      "                 -- 161.36774   24.108067 ...           -- 0.02505699 GALAXY\n",
      "                 --  162.9166   24.745308 ...           -- 0.02809918 GALAXY\n",
      "                 -- 162.85654   25.194836 ...           --  0.0318501 GALAXY\n",
      "1237667429028660002 161.38319    24.63922 ...   0.08159705 0.02738055 GALAXY\n",
      "                 --  160.3834   25.372713 ...           -- 0.02639201 GALAXY\n",
      "1237665127990493267 141.60157   26.578045 ...   0.07499041 0.04342403 GALAXY\n",
      "1237665127453950143 142.56964   26.644574 ...    0.0595556 0.04628859 GALAXY\n",
      "1237665097389965495 143.10429   27.003956 ...   0.03951634 0.03403724 GALAXY\n",
      "1237667113332834546 140.36498   25.063056 ...   0.07521141 0.02520086 GALAXY\n",
      "1237667113869639814 140.08217   25.273254 ...   0.06701536 0.02138491 GALAXY\n",
      "Length = 62710 rows\n"
     ]
    }
   ],
   "execution_count": 2
  },
  {
   "cell_type": "code",
   "source": [
    "# Determine distances (in Mpc) from Hubble law\n",
    "\n",
    "c=3.e5  # km/s\n",
    "h0=70   # km/s/Mpc\n",
    "dist=dr18['z']*c/h0  # distance in Mpc"
   ],
   "metadata": {
    "collapsed": false,
    "ExecuteTime": {
     "end_time": "2024-12-05T05:52:57.799655Z",
     "start_time": "2024-12-05T05:52:57.793245Z"
    }
   },
   "id": "37a8110484353bfd",
   "outputs": [],
   "execution_count": 3
  },
  {
   "cell_type": "markdown",
   "source": [
    "Below, we calculate the absolute magnitude of galaxies in the r-band, $M_r$, using the Petrosian magnitude and extinction corrections. The absolute magnitude is a measure of the intrinsic brightness of an object, unaffected by distance or other factors. It provides a standardised way to compare the luminosities of galaxies, stars, and other astronomical objects. The extinction corrections account for the dimming of light due to dust and other factors in the interstellar medium. By applying these corrections, we can obtain a more accurate representation of the true luminosity of galaxies in the r-band. Some definitions to keep in mind:\n",
    " \n",
    "- Petrosian magnitude or ([petroMag](https://skyserver.sdss.org/dr7/en/help/docs/algorithm.asp?key=mag_petro)), which is the apparent magnitude that is observed from the Earth. It represents the brightness of an object as seen from our location without any corrections.\n",
    "\n",
    "- Extinction Corrections or ([extinction](https://skyserver.sdss.org/dr7/en/help/docs/algorithm.asp#E), which is a term that accounts for the extinction of light due to interstellar dust and other factors. Extinction causes the observed magnitude to be fainter than the intrinsic magnitude of the object.\n",
    "\n",
    "Below, we are subtracting the extinction, effectively converting the apparent magnitude to an unextincted apparent magnitude."
   ],
   "metadata": {
    "collapsed": false
   },
   "id": "8f997b20d95853c0"
  },
  {
   "cell_type": "code",
   "source": [
    "# in Mpc, m-M = 5 log d + 25\n",
    "r=dr18['petroMag_r']-dr18['extinction_r']-5*np.log10(dist)-25"
   ],
   "metadata": {
    "collapsed": false,
    "ExecuteTime": {
     "end_time": "2024-12-05T05:52:59.469658Z",
     "start_time": "2024-12-05T05:52:59.462258Z"
    }
   },
   "id": "1af07a7a1ed8c3fb",
   "outputs": [],
   "execution_count": 4
  },
  {
   "cell_type": "markdown",
   "source": [
    "Let's plot an r-band luminosity function, but keep in mind it is uncorrected at this stage...\n"
   ],
   "metadata": {
    "collapsed": false
   },
   "id": "6dfa898a87cf414a"
  },
  {
   "cell_type": "code",
   "source": [
    "plt.style.use('dark_background')\n",
    "out=plt.hist(r,bins=np.arange(-25,-16.3,0.25),histtype='step')\n",
    "plt.xlim(-25,-16.5)\n",
    "plt.xlabel('$M_r$')\n",
    "plt.ylabel('Number of galaxies (uncorrected)')"
   ],
   "metadata": {
    "collapsed": false,
    "ExecuteTime": {
     "end_time": "2024-12-05T05:53:16.242623Z",
     "start_time": "2024-12-05T05:53:16.028113Z"
    }
   },
   "id": "96d193f6db4fb78b",
   "outputs": [
    {
     "data": {
      "text/plain": [
       "Text(0, 0.5, 'Number of galaxies (uncorrected)')"
      ]
     },
     "execution_count": 5,
     "metadata": {},
     "output_type": "execute_result"
    },
    {
     "data": {
      "text/plain": [
       "<Figure size 432x288 with 1 Axes>"
      ],
      "image/png": "[encoded data removed]"
     },
     "metadata": {},
     "output_type": "display_data"
    }
   ],
   "execution_count": 5
  },
  {
   "cell_type": "markdown",
   "source": [
    "When plotting a histogram of galaxy magnitudes without correction, you represent the observed distribution, which is skewed towards brighter galaxies. This bias occurs because a galaxy’s apparent magnitude is inversely affected by its distance $-$ the farther away a galaxy is, the dimmer it appears. As a result, distant low-luminosity galaxies are underrepresented. To correct for this, the 1/Vmax method accounts for the varying volumes within which galaxies can be observed. It calculates the maximum observable volume (Vmax) for each galaxy and uses this as a weight to adjust the histogram, providing a more accurate representation of the intrinsic luminosity function. This correction is essential for understanding the true distribution of galaxy properties and comparing different datasets and models. Read more [here](http://lifeng.lamost.org/courses/astr553/Topic04/Lecture_4.html)\n",
    "\n",
    " "
   ],
   "metadata": {
    "collapsed": false
   },
   "id": "83b9fa971e876c55"
  },
  {
   "cell_type": "code",
   "source": [
    "# center our histogram bins into mabs\n",
    "mabs=out[1][0:-1]+0.05\n",
    "# apparent magnitude limit of SDSS\n",
    "mlim=17.77 \n",
    "# use the mlim and mabs to determine the maximum distance\n",
    "dmax=10**((mlim-mabs-25)/5)\n",
    "# set a maximum distance of zmax=0.05 (based on our SQL selection criteria)\n",
    "dmax[dmax>zmax*c/h0] = zmax*c/h0\n",
    "# sets a minimum distance of zmin=0.015 (based on our SQL selection criteria)\n",
    "dmin=.015*3.e5/70\n",
    "print(dmin,mlim-5*np.log10(dmin)-25)\n",
    "# volume probed as a function of mabs\n",
    "vol = (dmax**3-dmin**3)"
   ],
   "metadata": {
    "collapsed": false,
    "ExecuteTime": {
     "end_time": "2024-12-05T05:58:49.116709Z",
     "start_time": "2024-12-05T05:58:49.075772Z"
    }
   },
   "id": "4057812cbd9329f0",
   "outputs": [
    {
     "name": "stdout",
     "output_type": "stream",
     "text": [
      "64.28571428571429 -16.270572368805432\n"
     ]
    }
   ],
   "execution_count": 6
  },
  {
   "metadata": {
    "ExecuteTime": {
     "end_time": "2024-12-05T05:58:53.333862Z",
     "start_time": "2024-12-05T05:58:53.129149Z"
    }
   },
   "cell_type": "code",
   "source": [
    "# Plot the volume probed as a function of mabs\n",
    "plt.plot(mabs,vol)\n",
    "plt.xlim(-25,-16.5)\n",
    "plt.yscale('log')\n",
    "plt.xlabel('$M_r$')\n",
    "plt.ylabel('Volume probed')\n",
    "plt.grid()"
   ],
   "id": "87ddaa249bca1064",
   "outputs": [
    {
     "data": {
      "text/plain": [
       "<Figure size 432x288 with 1 Axes>"
      ],
      "image/png": "[encoded data removed]"
     },
     "metadata": {},
     "output_type": "display_data"
    }
   ],
   "execution_count": 7
  },
  {
   "cell_type": "markdown",
   "source": [
    "We then use this volume to correct our histogram of galaxies by absolute magnitude."
   ],
   "metadata": {
    "collapsed": false
   },
   "id": "be084be78fd0123f"
  },
  {
   "cell_type": "code",
   "source": [
    "# corrected luminosity function\n",
    "lf=out[0]/vol\n",
    "plt.plot(mabs,lf)\n",
    "plt.xlim(-25,-16.5)\n",
    "plt.yscale('log')\n",
    "plt.xlabel('$M_r$')\n",
    "plt.ylabel('$\\phi$')"
   ],
   "metadata": {
    "collapsed": false,
    "ExecuteTime": {
     "end_time": "2024-12-05T05:59:04.013349Z",
     "start_time": "2024-12-05T05:59:03.760441Z"
    }
   },
   "id": "c7ac49246460df2",
   "outputs": [
    {
     "data": {
      "text/plain": [
       "Text(0, 0.5, '$\\\\phi$')"
      ]
     },
     "execution_count": 8,
     "metadata": {},
     "output_type": "execute_result"
    },
    {
     "data": {
      "text/plain": [
       "<Figure size 432x288 with 1 Axes>"
      ],
      "image/png": "[encoded data removed]"
     },
     "metadata": {},
     "output_type": "display_data"
    }
   ],
   "execution_count": 8
  },
  {
   "cell_type": "code",
   "source": [
    "# create a scatter plot of the luminosity function\n",
    "plt.scatter(mabs, lf, label='Luminosity Function')\n",
    "plt.xlim(-25, -16.5)\n",
    "plt.ylim(5e-8, 2e-3) \n",
    "plt.yscale('log')\n",
    "plt.xlabel('$M_r$')\n",
    "plt.ylabel('$\\phi$')\n",
    "plt.grid(True)\n",
    "plt.legend()\n",
    "plt.show()"
   ],
   "metadata": {
    "collapsed": false,
    "ExecuteTime": {
     "end_time": "2024-12-05T05:59:11.090836Z",
     "start_time": "2024-12-05T05:59:10.735105Z"
    }
   },
   "id": "7e5c1c6652b16a25",
   "outputs": [
    {
     "data": {
      "text/plain": [
       "<Figure size 432x288 with 1 Axes>"
      ],
      "image/png": "[encoded data removed]"
     },
     "metadata": {},
     "output_type": "display_data"
    }
   ],
   "execution_count": 9
  },
  {
   "cell_type": "markdown",
   "source": [
    "Pause here. Perhaps you want to export the data for analysis elsewhere? You can do this by copying the data to the clipboard using the below."
   ],
   "metadata": {
    "collapsed": false
   },
   "id": "8cc6248b36a4dc86"
  },
  {
   "cell_type": "code",
   "source": [
    "data_dict = {'Absolute Magnitude (M_r)': mabs, 'Weighted Counts': lf}\n",
    "df = pd.DataFrame(data_dict)\n",
    "# Copy the DataFrame to the clipboard\n",
    "df.to_clipboard(index=False, header=True)"
   ],
   "metadata": {
    "collapsed": false,
    "ExecuteTime": {
     "end_time": "2024-12-05T05:59:20.401803Z",
     "start_time": "2024-12-05T05:59:20.150047Z"
    }
   },
   "id": "9ea66795e616f20a",
   "outputs": [],
   "execution_count": 10
  },
  {
   "cell_type": "markdown",
   "source": [
    "To gain a better understanding of the distribution of galaxy magnitudes (or luminosities) in the universe, we can fit a Schechter function to the corrected luminosity function. The Schechter function models the number of galaxies per unit magnitude,  $\\phi(M) dM$ , and is widely used for this purpose. It includes three key parameters:  $\\phi^*$  (the characteristic density),  $\\alpha$  (the faint-end slope), and  $M^*$  (the characteristic magnitude). These parameters allow us to describe the intrinsic properties of galaxy populations, including the distribution of magnitudes and the types of galaxies present.\n",
    "\n",
    "Fitting the Schechter function involves adjusting these parameters to best match the observed data. This process helps estimate the characteristic values that describe the luminosity distribution in the surveyed region of the universe. For further details, please review the provided [PDF and recording](https://canvas.qut.edu.au/courses/13966/pages/luminosity-functions?module_item_id=1472015) (QARG Students only)."
   ],
   "metadata": {
    "collapsed": false
   },
   "id": "18c83e93fe23d130"
  },
  {
   "cell_type": "markdown",
   "source": [
    "We now calculate and visualise a Schechter function fit to our luminosity function represented in magnitudes, both with and without data point filtering based on the Mabs value."
   ],
   "metadata": {
    "collapsed": false
   },
   "id": "22b434822a24527e"
  },
  {
   "cell_type": "code",
   "source": [
    "# Define the Schechter function\n",
    "def schechter(m,mstar=-21,alpha=-1,phistar=1) :\n",
    "    return phistar*10.**(-0.4*(alpha+1)*(m-mstar))*np.exp(-10.**(-0.4*(m-mstar)))\n",
    "    \n",
    "# Plot the corrected LF\n",
    "plt.scatter(mabs, lf, label='Luminosity Function')\n",
    "plt.xlim(-25, -16.5)\n",
    "plt.ylim(5e-8, 2e-3)\n",
    "plt.yscale('log')\n",
    "\n",
    "# Do the fit with curve_fit\n",
    "p0 = [-21, -1, 1]   # Starting guess for fit\n",
    "from scipy.optimize import curve_fit\n",
    "pars = curve_fit(schechter, mabs, lf, p0=p0)\n",
    "print('Schechter fit:')\n",
    "print('Mstar: {:f} \\n alpha: {:f} \\n  phistar: {:f}'.format(*pars[0]))\n",
    "\n",
    "# Plot the Schechter fit\n",
    "plt.plot(mabs, schechter(mabs, *pars[0]), 'r', label='Schechter Fit')\n",
    "plt.xlabel('$M_{abs}$')\n",
    "plt.ylabel('$\\phi$')\n",
    "plt.legend()\n",
    "plt.show()"
   ],
   "metadata": {
    "collapsed": false,
    "ExecuteTime": {
     "end_time": "2024-12-05T06:12:21.715548Z",
     "start_time": "2024-12-05T06:12:21.195770Z"
    }
   },
   "id": "998ddcaf21cc6123",
   "outputs": [
    {
     "name": "stdout",
     "output_type": "stream",
     "text": [
      "Schechter fit:\n",
      "Mstar: -21.666267 \n",
      " alpha: -1.250501 \n",
      "  phistar: 0.000338\n"
     ]
    },
    {
     "data": {
      "text/plain": [
       "<Figure size 432x288 with 1 Axes>"
      ],
      "image/png": "[encoded data removed]"
     },
     "metadata": {},
     "output_type": "display_data"
    }
   ],
   "execution_count": 13
  },
  {
   "cell_type": "code",
   "source": [
    "# Try again, removing data with Mabs < -23.5\n",
    "plt.figure()\n",
    "gd = np.where(mabs > -23.5)[0]\n",
    "pars = curve_fit(schechter, mabs[gd], lf[gd], p0=p0)\n",
    "print('Schechter fit after removing brightest bins:')\n",
    "print('Mstar: {:f} \\n alpha: {:f} \\n  phistar: {:f}'.format(*pars[0]))\n",
    "\n",
    "# Plot the corrected LF after removing brightest bins\n",
    "plt.scatter(mabs[gd], lf[gd], label='Luminosity Function')\n",
    "plt.xlim(-25, -16.5)\n",
    "plt.ylim(5e-8, 2e-3)\n",
    "plt.yscale('log')\n",
    "\n",
    "# Plot the Schechter fit \n",
    "plt.plot(mabs[gd], schechter(mabs[gd], *pars[0]), 'r', label='Schechter Fit')\n",
    "plt.xlabel('$M_{abs}$')\n",
    "plt.ylabel('$\\phi$')\n",
    "plt.legend()\n",
    "plt.show()"
   ],
   "metadata": {
    "collapsed": false,
    "ExecuteTime": {
     "end_time": "2024-12-05T06:12:30.542733Z",
     "start_time": "2024-12-05T06:12:30.272934Z"
    }
   },
   "id": "6b8e3e1f07f956b3",
   "outputs": [
    {
     "name": "stdout",
     "output_type": "stream",
     "text": [
      "Schechter fit after removing brightest bins:\n",
      "Mstar: -21.666280 \n",
      " alpha: -1.250502 \n",
      "  phistar: 0.000338\n"
     ]
    },
    {
     "data": {
      "text/plain": [
       "<Figure size 432x288 with 1 Axes>"
      ],
      "image/png": "[encoded data removed]"
     },
     "metadata": {},
     "output_type": "display_data"
    }
   ],
   "execution_count": 14
  },
  {
   "cell_type": "markdown",
   "source": [
    "The parameter values from the Schechter function fit provide insights into the characteristics of the galaxy population represented by our luminosity function. The following conclusions can be drawn from these values:\n",
    "\n",
    "### **Characteristic Magnitude ($M^*$)**\n",
    "\n",
    "The $M^*$ value of approximately -21.67 represents the characteristic magnitude at which the luminosity function transitions from the faint-end slope ($\\alpha$) to the brighter-end slope. This is the magnitude where the galaxy population in the studied region is most densely concentrated. It does not necessarily coincide with the peak of the luminosity function, but it indicates where galaxies tend to cluster in terms of luminosity.\n",
    "\n",
    "### **Faint-End Slope ($\\alpha$)**\n",
    "\n",
    "The $\\alpha$ value of approximately -1.25 describes the faint-end slope of the luminosity function. A value of $\\alpha < -1$ indicates a steep decline in the number of faint galaxies, which is typical in galaxy populations where low-luminosity galaxies are much less common than brighter ones.\n",
    "\n",
    "### **Characteristic Density ($\\phi^*$)**\n",
    "\n",
    "The $\\phi^*$ value of approximately 0.000338 represents the characteristic density of galaxies per unit magnitude at the characteristic magnitude $M^*$. This value gives an indication of the overall density of galaxies in the studied region, with lower values suggesting a less dense distribution."
   ],
   "metadata": {
    "collapsed": false
   },
   "id": "9db5386b14b215b7"
  },
  {
   "cell_type": "markdown",
   "source": "The Schechter parameters provide a foundation for further analysis of galaxy populations, offering insight into their luminosity distribution. By splitting the sample into different subpopulations, such as red and blue galaxies, you can explore variations in stellar populations and gain a deeper understanding of galaxy evolution. These parameters also enable comparisons with theoretical models and other surveys, enhancing our overall understanding of the universe’s luminosity function and its implications for cosmology.",
   "metadata": {
    "collapsed": false
   },
   "id": "829c043fd130d1e4"
  }
 ],
 "metadata": {
  "kernelspec": {
   "display_name": "Python 3",
   "language": "python",
   "name": "python3"
  },
  "language_info": {
   "codemirror_mode": {
    "name": "ipython",
    "version": 2
   },
   "file_extension": ".py",
   "mimetype": "text/x-python",
   "name": "python",
   "nbconvert_exporter": "python",
   "pygments_lexer": "ipython2",
   "version": "2.7.6"
  }
 },
 "nbformat": 4,
 "nbformat_minor": 5
}
